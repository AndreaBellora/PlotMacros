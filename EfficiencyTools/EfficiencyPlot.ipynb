{
 "cells": [
  {
   "cell_type": "code",
   "execution_count": 4,
   "id": "14e38176",
   "metadata": {},
   "outputs": [
    {
     "name": "stdout",
     "output_type": "stream",
     "text": [
      "Welcome to JupyROOT 6.28/06\n"
     ]
    }
   ],
   "source": [
    "import ROOT\n",
    "import os"
   ]
  },
  {
   "cell_type": "code",
   "execution_count": 5,
   "id": "1ef5aaf9",
   "metadata": {},
   "outputs": [],
   "source": [
    "rootFile = '/eos/cms/store/group/dpg_ctpps/comm_ctpps/pps-automation/dev/test_zb_input/pps-test-re-tracking-efficiency/368454/outputTrackingEfficiency_run368454.root'\n",
    "outputFolder = 'plots/'\n",
    "if not os.path.isdir(outputFolder):\n",
    "    print('Folder '+outputFolder+' not found. Creating it...')\n",
    "    os.mkdir(outputFolder)\n",
    "\n",
    "plotPubStatus = 'Internal'"
   ]
  },
  {
   "cell_type": "code",
   "execution_count": 6,
   "id": "9964acbb",
   "metadata": {},
   "outputs": [],
   "source": [
    "def getPlot(filename,sector,station,hist_pattern):\n",
    "    \"\"\"Get the track hit distribution from the DQM file\"\"\"\n",
    "    file = ROOT.TFile(filename)\n",
    "    arm = 0 if sector == '45' else 1\n",
    "    hist_path = hist_pattern.format(\n",
    "        sector=sector,\n",
    "        station=station,\n",
    "        arm=arm\n",
    "    )\n",
    "    \n",
    "    if not file:\n",
    "        print(f'Failed to open file: {filename}')\n",
    "        file.Close()\n",
    "        return None\n",
    "    \n",
    "    h = file.Get(hist_path)\n",
    "    if not h:\n",
    "        print(f'Failed to retrieve histogram: {hist_path}')\n",
    "        file.Close()\n",
    "        return None\n",
    "    \n",
    "    # Create a copy of the histogram\n",
    "    hist_class = h.Class().GetName()\n",
    "    if hist_class == 'TH1D':\n",
    "        hist = ROOT.TH1D(h)\n",
    "    elif hist_class == 'TH2D':\n",
    "        hist = ROOT.TH2D(h)\n",
    "    else:\n",
    "        print(f'Found histogram of non-supported class: {hist_class}')\n",
    "        file.Close()\n",
    "        return None\n",
    "        \n",
    "    # Pass the ownership to the top-level application\n",
    "    hist.SetDirectory(0)\n",
    "    \n",
    "    return hist"
   ]
  },
  {
   "cell_type": "code",
   "execution_count": 22,
   "id": "7494355b",
   "metadata": {},
   "outputs": [],
   "source": [
    "def makeRadiationEfficiencyPlot(rootFile,sector,station,save_output=False):\n",
    "    track_distribution_pattern = 'DQMData/Run 999999/Run summary/h2RefinedTrackEfficiency_arm{arm}_st{station}_rp3'\n",
    "    hist = getPlot(rootFile,sector,station,track_distribution_pattern)\n",
    "    \n",
    "    st_m = '220' if station == '2' else '210'\n",
    "\n",
    "    ROOT.gStyle.SetOptStat(0)\n",
    "    ROOT.gStyle.SetOptTitle(0)\n",
    "    ROOT.gStyle.SetPalette(1)\n",
    "\n",
    "    canvas = ROOT.TCanvas('c'+hist.GetName(),'c'+hist.GetName(),104*6,160*4) # Canvas sized to make the pixel proportions right\n",
    "    hist.SetDirectory(ROOT.gDirectory)\n",
    "    hist.SetMinimum(0)\n",
    "    canvas.SetRightMargin(0.125)\n",
    "    \n",
    "    hist.GetXaxis().SetRangeUser(1,19)\n",
    "    hist.GetYaxis().SetRangeUser(-10,14)\n",
    "    hist.GetXaxis().SetTitleSize(0.04)\n",
    "    hist.GetXaxis().SetTitleOffset(1)\n",
    "    hist.GetYaxis().SetTitleSize(0.04)\n",
    "    hist.GetYaxis().SetTitleOffset(1)\n",
    "\n",
    "    hist.DrawClone(\"colz\")\n",
    "\n",
    "    # Add CMS Watermark\n",
    "    latex = ROOT.TLatex()\n",
    "\n",
    "    cmsText = '#font[61]{CMS} #scale[0.76]{#font[52]{'+plotPubStatus+'}}'\n",
    "    stationTag = '{sector}-{station}-fr'.format(sector=sector,station=st_m)\n",
    "    description = '#font[42]{Radiation efficiency - '+stationTag+'}'\n",
    "    latex.DrawLatexNDC(0.15,0.85,cmsText)\n",
    "    latex.SetTextAlign(21)\n",
    "    latex.DrawLatexNDC(0.5,0.91,description)\n",
    "\n",
    "    if save_output:\n",
    "        canvas.SaveAs(outputFolder+'/'+hist.GetName()+'.png')\n",
    "        canvas.SaveAs(outputFolder+'/'+hist.GetName()+'.pdf')\n",
    "    return canvas"
   ]
  },
  {
   "cell_type": "code",
   "execution_count": 24,
   "id": "cb6f0547",
   "metadata": {},
   "outputs": [
    {
     "name": "stderr",
     "output_type": "stream",
     "text": [
      "Warning in <TCanvas::Constructor>: Deleting canvas with same name: ch2RefinedTrackEfficiency_arm1_st2_rp3\n",
      "Info in <TCanvas::Print>: png file plots//h2RefinedTrackEfficiency_arm1_st2_rp3.png has been created\n",
      "Info in <TCanvas::Print>: pdf file plots//h2RefinedTrackEfficiency_arm1_st2_rp3.pdf has been created\n"
     ]
    },
    {
     "data": {
      "image/png": "[encoded data removed]",
      "text/plain": [
       "<IPython.core.display.Image object>"
      ]
     },
     "metadata": {},
     "output_type": "display_data"
    }
   ],
   "source": [
    "sector = '56'\n",
    "station = '2'\n",
    "c = makeRadiationEfficiencyPlot(rootFile,sector,station,True)\n",
    "c.Draw()"
   ]
  },
  {
   "cell_type": "code",
   "execution_count": null,
   "id": "4037b4d3",
   "metadata": {},
   "outputs": [],
   "source": []
  }
 ],
 "metadata": {
  "@webio": {
   "lastCommId": null,
   "lastKernelId": null
  },
  "kernelspec": {
   "display_name": "Python 3",
   "language": "python",
   "name": "python3"
  },
  "language_info": {
   "codemirror_mode": {
    "name": "ipython",
    "version": 3
   },
   "file_extension": ".py",
   "mimetype": "text/x-python",
   "name": "python",
   "nbconvert_exporter": "python",
   "pygments_lexer": "ipython3",
   "version": "3.9.12"
  }
 },
 "nbformat": 4,
 "nbformat_minor": 5
}
